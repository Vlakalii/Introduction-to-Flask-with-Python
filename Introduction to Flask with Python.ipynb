{
 "cells": [
  {
   "cell_type": "markdown",
   "id": "acf64d09",
   "metadata": {},
   "source": [
    "# 1. Introduction to Flask"
   ]
  },
  {
   "cell_type": "markdown",
   "id": "53d4dac0",
   "metadata": {},
   "source": [
    "Start by setting up a virtual environment (venv) where all required packages are installed.\n",
    "In this case Flask and Flask-sqlalchemy packages were installed"
   ]
  },
  {
   "cell_type": "markdown",
   "id": "6692a069",
   "metadata": {},
   "source": [
    "After the environment for writing code is developed, start by importing the libraries:"
   ]
  },
  {
   "cell_type": "code",
   "execution_count": 2,
   "id": "8108048d",
   "metadata": {},
   "outputs": [],
   "source": [
    "from flask import Flask"
   ]
  },
  {
   "cell_type": "markdown",
   "id": "d2757305",
   "metadata": {},
   "source": [
    "Next we need to set up the application:"
   ]
  },
  {
   "cell_type": "code",
   "execution_count": 3,
   "id": "adf17135",
   "metadata": {},
   "outputs": [],
   "source": [
    "app = Flask(__name__)"
   ]
  },
  {
   "cell_type": "markdown",
   "id": "e3b269fe",
   "metadata": {},
   "source": [
    "Next an index route needs to be created so that when the URL is browsed, a 404 does not pop up :).\n",
    "\n",
    "In flask, routes are set up with the app route decorator which is app.route() and that is where the URL string of the route is passed in.\n",
    "\n",
    "A simple webpage should open and display the message contained in the function!"
   ]
  },
  {
   "cell_type": "code",
   "execution_count": 5,
   "id": "6777b969",
   "metadata": {},
   "outputs": [],
   "source": [
    "@app.route('/')\n",
    "def index():\n",
    "    return \"Hello, World!\""
   ]
  },
  {
   "cell_type": "markdown",
   "id": "93374c76",
   "metadata": {},
   "source": [
    "This line is to open up the webpage and the debug is set to true to display any errors should any occur and it would pop up on the page and one would be able to see."
   ]
  },
  {
   "cell_type": "code",
   "execution_count": 9,
   "id": "50362c94",
   "metadata": {},
   "outputs": [],
   "source": [
    "if __name__ == \"__main__\":\n",
    "    app.run(debug=True)"
   ]
  },
  {
   "cell_type": "markdown",
   "id": "eccdfc1b",
   "metadata": {},
   "source": [
    "by opening localhost:5000, the website can be seen!"
   ]
  }
 ],
 "metadata": {
  "kernelspec": {
   "display_name": "Python 3 (ipykernel)",
   "language": "python",
   "name": "python3"
  },
  "language_info": {
   "codemirror_mode": {
    "name": "ipython",
    "version": 3
   },
   "file_extension": ".py",
   "mimetype": "text/x-python",
   "name": "python",
   "nbconvert_exporter": "python",
   "pygments_lexer": "ipython3",
   "version": "3.9.7"
  }
 },
 "nbformat": 4,
 "nbformat_minor": 5
}
